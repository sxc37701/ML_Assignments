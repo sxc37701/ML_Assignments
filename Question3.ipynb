{
 "cells": [
  {
   "cell_type": "code",
   "execution_count": 6,
   "id": "1d2844c8",
   "metadata": {},
   "outputs": [
    {
     "name": "stdout",
     "output_type": "stream",
     "text": [
      "Tuple of sisters ::  ('sandeepa', 'deepti')\n",
      "Tuple of brothers ::  ('suman', 'ravi')\n",
      "Tuple of siblings :: ('sandeepa', 'deepti', 'suman', 'ravi')\n",
      "Length of siblings tuple is 4\n",
      "List of Family members :: ['sandeepa', 'deepti', 'suman', 'ravi', 'Mother', 'Father']\n"
     ]
    }
   ],
   "source": [
    "#Create a tuple containing names of your sisters and your brothers (imaginary siblings are fine)\n",
    "sisters = ('sandeepa','deepti')\n",
    "brothers = ('suman','ravi')                                        #creating sisters and brothers tuples\n",
    "\n",
    "print(\"Tuple of sisters :: \",sisters)\n",
    "print(\"Tuple of brothers :: \",brothers)\n",
    "\n",
    "#Join brothers and sisters tuples and assign it to siblings\n",
    "siblings = ()\n",
    "siblings=sisters+brothers                                           #joining sisters and brothers tuple as siblings tuple\n",
    "\n",
    "print(\"Tuple of siblings ::\",siblings)\n",
    "\n",
    "#How many siblings do you have?\n",
    "\n",
    "print(\"Length of siblings tuple is\", len(siblings))                #finding length of siblings tuple\n",
    "\n",
    "#Modify the siblings tuple and add the name of your father and mother and assign it to family_members\n",
    "\n",
    "family_members=list(siblings)\n",
    "family_members.append(\"Mother\")                                   #converting siblings tuple to family members list\n",
    "family_members.append(\"Father\")\n",
    "\n",
    "print(\"List of Family members ::\",family_members)                #printing family members list\n",
    "\n",
    "\n",
    "\n"
   ]
  },
  {
   "cell_type": "code",
   "execution_count": null,
   "id": "d97e0ed3",
   "metadata": {},
   "outputs": [],
   "source": []
  }
 ],
 "metadata": {
  "kernelspec": {
   "display_name": "Python 3 (ipykernel)",
   "language": "python",
   "name": "python3"
  },
  "language_info": {
   "codemirror_mode": {
    "name": "ipython",
    "version": 3
   },
   "file_extension": ".py",
   "mimetype": "text/x-python",
   "name": "python",
   "nbconvert_exporter": "python",
   "pygments_lexer": "ipython3",
   "version": "3.9.4"
  }
 },
 "nbformat": 4,
 "nbformat_minor": 5
}
