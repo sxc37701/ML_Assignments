{
 "cells": [
  {
   "cell_type": "code",
   "execution_count": 6,
   "id": "31d0d708",
   "metadata": {},
   "outputs": [
    {
     "name": "stdout",
     "output_type": "stream",
     "text": [
      "Converting statement into words ['I', 'am', 'a', 'teacher', 'and', 'I', 'love', 'to', 'inspire', 'and', 'teach', 'people']\n",
      "Converting statement into words {'am', 'teacher', 'people', 'teach', 'love', 'to', 'a', 'I', 'inspire', 'and'}\n",
      "Length of unique words 10\n"
     ]
    }
   ],
   "source": [
    "#“I am a teacher and I love to inspire and teach people”\n",
    "#How many unique words have been used in the sentence? Use the split methods and set to get the unique words.\n",
    "\n",
    "statement = \"I am a teacher and I love to inspire and teach people\"\n",
    "words = statement.split()\n",
    "print(\"Converting statement into words\",words)                   #using split to breakdown statement to words\n",
    "\n",
    "unique_words = set(words)\n",
    "print(\"Converting statement into words\",unique_words)            #using set to get unique words\n",
    "\n",
    "unique_words_count = len(unique_words)\n",
    "print(\"Length of unique words\",unique_words_count)                #using len to get count of unique words\n",
    "\n",
    "\n",
    "\n"
   ]
  },
  {
   "cell_type": "code",
   "execution_count": null,
   "id": "8bc44e50",
   "metadata": {},
   "outputs": [],
   "source": []
  }
 ],
 "metadata": {
  "kernelspec": {
   "display_name": "Python 3 (ipykernel)",
   "language": "python",
   "name": "python3"
  },
  "language_info": {
   "codemirror_mode": {
    "name": "ipython",
    "version": 3
   },
   "file_extension": ".py",
   "mimetype": "text/x-python",
   "name": "python",
   "nbconvert_exporter": "python",
   "pygments_lexer": "ipython3",
   "version": "3.9.4"
  }
 },
 "nbformat": 4,
 "nbformat_minor": 5
}
