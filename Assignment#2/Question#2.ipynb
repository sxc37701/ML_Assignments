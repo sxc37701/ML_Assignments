{
 "cells": [
  {
   "cell_type": "code",
   "execution_count": 10,
   "id": "9fcc92a0",
   "metadata": {},
   "outputs": [
    {
     "name": "stdout",
     "output_type": "stream",
     "text": [
      "Enter number of elements in the list : 5\n",
      "10\n",
      "20\n",
      "30\n",
      "40\n",
      "50\n",
      "[10, 20, 30, 40, 50]\n",
      "Elements at odd index:\n",
      "index 1 Element 20\n",
      "index 3 Element 40\n"
     ]
    }
   ],
   "source": [
    "#Use looping to output the elements from a provided list present at odd indexes.\n",
    "#my_list = [10, 20, 30, 40, 50, 60, 70, 80, 90, 100]\n",
    "my_list=[]\n",
    "n = int(input(\"Enter number of elements in the list : \"))\n",
    "for i in range(0, n):\n",
    "    elm = int(input())\n",
    "    my_list.append(elm)\n",
    "    \n",
    "print(my_list)\n",
    "print('Elements at odd index:')\n",
    "for x in my_list:\n",
    "    if my_list.index(x)%2 !=0 :\n",
    "        print('index',my_list.index(x),'Element',x)"
   ]
  },
  {
   "cell_type": "code",
   "execution_count": null,
   "id": "8f691328",
   "metadata": {},
   "outputs": [],
   "source": []
  }
 ],
 "metadata": {
  "kernelspec": {
   "display_name": "Python 3 (ipykernel)",
   "language": "python",
   "name": "python3"
  },
  "language_info": {
   "codemirror_mode": {
    "name": "ipython",
    "version": 3
   },
   "file_extension": ".py",
   "mimetype": "text/x-python",
   "name": "python",
   "nbconvert_exporter": "python",
   "pygments_lexer": "ipython3",
   "version": "3.9.4"
  }
 },
 "nbformat": 4,
 "nbformat_minor": 5
}
