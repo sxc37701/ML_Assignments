{
 "cells": [
  {
   "cell_type": "code",
   "execution_count": 2,
   "id": "dc4a6126",
   "metadata": {},
   "outputs": [
    {
     "name": "stdout",
     "output_type": "stream",
     "text": [
      "Enter the string'The quick Brow Fox'\n",
      "No. of Upper-case characters:  12\n",
      "No. of Lower-case Characters:  3\n"
     ]
    }
   ],
   "source": [
    "#Write a function that accepts a string and calculate the number of upper-case letters and lower-case letters. \n",
    "\n",
    "\n",
    "def upperlowerCount(string):\n",
    "    lc,uc = 0,0\n",
    "    for i in string:\n",
    "        if (i>='a'and i<='z'):                  #a to z lower case\n",
    "            lc=lc+1               \n",
    "        if (i>='A'and i<='Z'):                  #A to Z Upper case\n",
    "            uc=uc+1      \n",
    "    print('No. of Upper-case characters: ',uc)\n",
    "    print('No. of Lower-case Characters: ',lc)      \n",
    "\n",
    "\n",
    "\n",
    "inputString = input('Enter the string')\n",
    "upperlowerCount(inputString)\n",
    "            \n"
   ]
  },
  {
   "cell_type": "code",
   "execution_count": null,
   "id": "4eeee57c",
   "metadata": {},
   "outputs": [],
   "source": []
  }
 ],
 "metadata": {
  "kernelspec": {
   "display_name": "Python 3 (ipykernel)",
   "language": "python",
   "name": "python3"
  },
  "language_info": {
   "codemirror_mode": {
    "name": "ipython",
    "version": 3
   },
   "file_extension": ".py",
   "mimetype": "text/x-python",
   "name": "python",
   "nbconvert_exporter": "python",
   "pygments_lexer": "ipython3",
   "version": "3.9.4"
  }
 },
 "nbformat": 4,
 "nbformat_minor": 5
}
