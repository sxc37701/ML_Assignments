{
 "cells": [
  {
   "cell_type": "code",
   "execution_count": 4,
   "id": "9228c0bf",
   "metadata": {},
   "outputs": [
    {
     "name": "stdout",
     "output_type": "stream",
     "text": [
      "Enter number of elements in the list : 8\n",
      "1\n",
      "2\n",
      "3\n",
      "3\n",
      "3\n",
      "3\n",
      "4\n",
      "5\n",
      "[1, 2, 3, 4, 5]\n"
     ]
    }
   ],
   "source": [
    "#4. Write a function that takes a list and returns a new list with unique items of the first list.\n",
    "#Sample_List= [1,2,3,3,3,3,4,5]\n",
    "Sample_List=[]\n",
    "n = int(input(\"Enter number of elements in the list : \"))     #No Of elements in list\n",
    "for i in range(0, n):\n",
    "    elm = int(input())\n",
    "    Sample_List.append(elm)                                   #Collecting elements into list\n",
    "    \n",
    "unique_list =[]\n",
    "for element in Sample_List:\n",
    "    if element not in unique_list:                           #not in to check if element in list\n",
    "        unique_list.append(element)\n",
    "        \n",
    "print(unique_list)        "
   ]
  },
  {
   "cell_type": "code",
   "execution_count": null,
   "id": "3cf3f88e",
   "metadata": {},
   "outputs": [],
   "source": []
  }
 ],
 "metadata": {
  "kernelspec": {
   "display_name": "Python 3 (ipykernel)",
   "language": "python",
   "name": "python3"
  },
  "language_info": {
   "codemirror_mode": {
    "name": "ipython",
    "version": 3
   },
   "file_extension": ".py",
   "mimetype": "text/x-python",
   "name": "python",
   "nbconvert_exporter": "python",
   "pygments_lexer": "ipython3",
   "version": "3.9.4"
  }
 },
 "nbformat": 4,
 "nbformat_minor": 5
}
