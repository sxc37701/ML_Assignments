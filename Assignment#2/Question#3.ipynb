{
 "cells": [
  {
   "cell_type": "code",
   "execution_count": null,
   "id": "07175078",
   "metadata": {},
   "outputs": [],
   "source": [
    "#Write a code that appends the type of elements from a given list.\n",
    "#Input\n",
    "#x = [23,'Python',23.98]\n",
    "x=[]\n",
    "n = int(input(\"Enter number of elements in the list : \"))\n",
    "for i in range(0, n):\n",
    "    elm = input()\n",
    "    x.append(elm)\n",
    "    \n",
    "for element in x:\n",
    "    print(type(element))"
   ]
  },
  {
   "cell_type": "code",
   "execution_count": null,
   "id": "41a6f910",
   "metadata": {},
   "outputs": [],
   "source": []
  },
  {
   "cell_type": "code",
   "execution_count": null,
   "id": "773c7dd4",
   "metadata": {},
   "outputs": [],
   "source": []
  },
  {
   "cell_type": "code",
   "execution_count": 11,
   "id": "18d9939d",
   "metadata": {},
   "outputs": [
    {
     "name": "stdout",
     "output_type": "stream",
     "text": [
      "<class 'int'> \t\n",
      "<class 'str'> \t\n",
      "<class 'float'> \t\n"
     ]
    }
   ],
   "source": [
    "#Write a code that appends the type of elements from a given list.\n",
    "#Input\n",
    "x = [23,'Python',23.98]   \n",
    "for element in x:\n",
    "    print(type(element),'\\t')"
   ]
  },
  {
   "cell_type": "code",
   "execution_count": 15,
   "id": "4e2c092b",
   "metadata": {},
   "outputs": [
    {
     "name": "stdout",
     "output_type": "stream",
     "text": [
      "Enter number of elements in the list : 2\n",
      "23\n",
      "<class 'int'>\n",
      "'Python'\n",
      "<class 'str'>\n"
     ]
    }
   ],
   "source": [
    "#Write a code that appends the type of elements from a given list.\n",
    "#Input\n",
    "#x = [23,'Python',23.98]\n",
    "x=[]\n",
    "n = int(input(\"Enter number of elements in the list : \"))\n",
    "for i in range(0, n):\n",
    "    print(type(eval(input())))\n"
   ]
  },
  {
   "cell_type": "code",
   "execution_count": null,
   "id": "175ae687",
   "metadata": {},
   "outputs": [],
   "source": []
  }
 ],
 "metadata": {
  "kernelspec": {
   "display_name": "Python 3 (ipykernel)",
   "language": "python",
   "name": "python3"
  },
  "language_info": {
   "codemirror_mode": {
    "name": "ipython",
    "version": 3
   },
   "file_extension": ".py",
   "mimetype": "text/x-python",
   "name": "python",
   "nbconvert_exporter": "python",
   "pygments_lexer": "ipython3",
   "version": "3.9.4"
  }
 },
 "nbformat": 4,
 "nbformat_minor": 5
}
