{
 "cells": [
  {
   "cell_type": "code",
   "execution_count": 2,
   "id": "8f5d944c",
   "metadata": {},
   "outputs": [
    {
     "name": "stdout",
     "output_type": "stream",
     "text": [
      "Area of circle 2826.0\n",
      "Circumference of circle 188.4\n",
      "Enter the radius of the circle:2\n",
      "Area of circle 12.56\n"
     ]
    }
   ],
   "source": [
    "#Calculate the area of a circle and assign the value to a variable name of _area_of_circle_\n",
    "pi=3.14\n",
    "radius = 30\n",
    "_area_of_circle_ = pi*radius*radius\n",
    "print(\"Area of circle\",_area_of_circle_)\n",
    "#Calculate the circumference of a circle and assign the value to a variable name of _circum_of_circle_\n",
    "_circum_of_circle_ = 2*pi*radius\n",
    "print(\"Circumference of circle\",_circum_of_circle_)  \n",
    "#Take radius as user input and calculate the area.\n",
    "inputRadius = int(input(\"Enter the radius of the circle:\"))    #collecting radius from user\n",
    "_area_of_circle_ = pi*inputRadius*inputRadius\n",
    "print(\"Area of circle\",_area_of_circle_)"
   ]
  },
  {
   "cell_type": "code",
   "execution_count": null,
   "id": "8ad670d1",
   "metadata": {},
   "outputs": [],
   "source": []
  }
 ],
 "metadata": {
  "kernelspec": {
   "display_name": "Python 3 (ipykernel)",
   "language": "python",
   "name": "python3"
  },
  "language_info": {
   "codemirror_mode": {
    "name": "ipython",
    "version": 3
   },
   "file_extension": ".py",
   "mimetype": "text/x-python",
   "name": "python",
   "nbconvert_exporter": "python",
   "pygments_lexer": "ipython3",
   "version": "3.9.4"
  }
 },
 "nbformat": 4,
 "nbformat_minor": 5
}
