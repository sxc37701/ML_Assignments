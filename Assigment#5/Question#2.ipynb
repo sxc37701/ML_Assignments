{
 "cells": [
  {
   "cell_type": "code",
   "execution_count": 1,
   "id": "2fee46a8",
   "metadata": {},
   "outputs": [
    {
     "data": {
      "text/plain": [
       "id                           False\n",
       "gender                       False\n",
       "PPE                          False\n",
       "DFA                          False\n",
       "RPDE                         False\n",
       "                             ...  \n",
       "tqwt_kurtosisValue_dec_33    False\n",
       "tqwt_kurtosisValue_dec_34    False\n",
       "tqwt_kurtosisValue_dec_35    False\n",
       "tqwt_kurtosisValue_dec_36    False\n",
       "class                        False\n",
       "Length: 755, dtype: bool"
      ]
     },
     "execution_count": 1,
     "metadata": {},
     "output_type": "execute_result"
    }
   ],
   "source": [
    "#Use pd_speech_features.csv\n",
    "#a. Perform Scaling\n",
    "\n",
    "import numpy as np\n",
    "import matplotlib as plt\n",
    "import pandas as pd\n",
    "import seaborn as sns\n",
    "from sklearn import preprocessing ,metrics\n",
    "from sklearn.preprocessing import StandardScaler,LabelEncoder\n",
    "from sklearn.model_selection import train_test_split\n",
    "from sklearn.metrics import accuracy_score,classification_report,confusion_matrix\n",
    "from sklearn.decomposition import PCA\n",
    "from sklearn.cluster import KMeans\n",
    "sns.set(style=\"white\",color_codes=True)\n",
    "import warnings\n",
    "warnings.filterwarnings(\"ignore\")\n",
    "\n",
    "dataSet = pd.read_csv('pd_speech_features.csv')\n",
    "dataSet.head()\n",
    "\n",
    "dataSet.isnull().any()\n"
   ]
  },
  {
   "cell_type": "code",
   "execution_count": 2,
   "id": "d5cde99a",
   "metadata": {},
   "outputs": [],
   "source": [
    "X=dataSet.drop('class',axis=1).values\n",
    "y= dataSet['class'].values\n"
   ]
  },
  {
   "cell_type": "code",
   "execution_count": 3,
   "id": "d0f33c67",
   "metadata": {},
   "outputs": [
    {
     "data": {
      "text/html": [
       "<div>\n",
       "<style scoped>\n",
       "    .dataframe tbody tr th:only-of-type {\n",
       "        vertical-align: middle;\n",
       "    }\n",
       "\n",
       "    .dataframe tbody tr th {\n",
       "        vertical-align: top;\n",
       "    }\n",
       "\n",
       "    .dataframe thead th {\n",
       "        text-align: right;\n",
       "    }\n",
       "</style>\n",
       "<table border=\"1\" class=\"dataframe\">\n",
       "  <thead>\n",
       "    <tr style=\"text-align: right;\">\n",
       "      <th></th>\n",
       "      <th>principal component 1</th>\n",
       "      <th>principal component 2</th>\n",
       "      <th>principal component 3</th>\n",
       "      <th>class</th>\n",
       "    </tr>\n",
       "  </thead>\n",
       "  <tbody>\n",
       "    <tr>\n",
       "      <th>0</th>\n",
       "      <td>-10.047372</td>\n",
       "      <td>1.471076</td>\n",
       "      <td>-6.846411</td>\n",
       "      <td>1</td>\n",
       "    </tr>\n",
       "    <tr>\n",
       "      <th>1</th>\n",
       "      <td>-10.637725</td>\n",
       "      <td>1.583748</td>\n",
       "      <td>-6.830971</td>\n",
       "      <td>1</td>\n",
       "    </tr>\n",
       "    <tr>\n",
       "      <th>2</th>\n",
       "      <td>-13.516185</td>\n",
       "      <td>-1.253542</td>\n",
       "      <td>-6.818703</td>\n",
       "      <td>1</td>\n",
       "    </tr>\n",
       "    <tr>\n",
       "      <th>3</th>\n",
       "      <td>-9.155083</td>\n",
       "      <td>8.833597</td>\n",
       "      <td>15.290899</td>\n",
       "      <td>1</td>\n",
       "    </tr>\n",
       "    <tr>\n",
       "      <th>4</th>\n",
       "      <td>-6.764470</td>\n",
       "      <td>4.611464</td>\n",
       "      <td>15.637130</td>\n",
       "      <td>1</td>\n",
       "    </tr>\n",
       "  </tbody>\n",
       "</table>\n",
       "</div>"
      ],
      "text/plain": [
       "   principal component 1  principal component 2  principal component 3  class\n",
       "0             -10.047372               1.471076              -6.846411      1\n",
       "1             -10.637725               1.583748              -6.830971      1\n",
       "2             -13.516185              -1.253542              -6.818703      1\n",
       "3              -9.155083               8.833597              15.290899      1\n",
       "4              -6.764470               4.611464              15.637130      1"
      ]
     },
     "execution_count": 3,
     "metadata": {},
     "output_type": "execute_result"
    }
   ],
   "source": [
    "scaler = StandardScaler();\n",
    "X_Scale= scaler.fit_transform(X)\n",
    "\n",
    "#Apply PCA (k=3)\n",
    "\n",
    "pca3= PCA(n_components=3)\n",
    "prinicipalComponents = pca3.fit_transform(X_Scale)\n",
    "\n",
    "principalDf = pd.DataFrame(data= prinicipalComponents,columns= ['principal component 1','principal component 2','principal component 3'])\n",
    "finalDf= pd.concat([principalDf,dataSet[['class']]],axis=1)\n",
    "finalDf.head()\n"
   ]
  },
  {
   "cell_type": "code",
   "execution_count": 4,
   "id": "25df5d73",
   "metadata": {},
   "outputs": [],
   "source": [
    "X=finalDf.drop('class',axis=1).values\n",
    "y=finalDf['class'].values\n",
    "X_train,X_test,y_train,y_test = train_test_split(X,y,test_size=0.34,random_state=0)"
   ]
  },
  {
   "cell_type": "code",
   "execution_count": 6,
   "id": "bfc0c2ec",
   "metadata": {},
   "outputs": [
    {
     "name": "stdout",
     "output_type": "stream",
     "text": [
      "              precision    recall  f1-score   support\n",
      "\n",
      "           0       0.67      0.42      0.51        62\n",
      "           1       0.84      0.93      0.88       196\n",
      "\n",
      "    accuracy                           0.81       258\n",
      "   macro avg       0.75      0.68      0.70       258\n",
      "weighted avg       0.80      0.81      0.79       258\n",
      "\n",
      "[[ 26  36]\n",
      " [ 13 183]]\n",
      "Accuracy is 0.810077519379845\n",
      "Silhouette Score: 0.2504463544811187\n"
     ]
    }
   ],
   "source": [
    "#Use SVM to report performance\n",
    "\n",
    "from sklearn.svm import SVC\n",
    "\n",
    "svmClassifier = SVC()\n",
    "svmClassifier.fit(X_train,y_train)\n",
    "\n",
    "y_pred = svmClassifier.predict(X_test)\n",
    "\n",
    "#Summary of the predictions made by the classifier\n",
    "print(classification_report(y_test,y_pred,zero_division=1))\n",
    "print(confusion_matrix(y_test,y_pred))\n",
    "\n",
    "#Accuracy_Score\n",
    "\n",
    "glass_acc_svc = accuracy_score(y_pred,y_test)\n",
    "print('Accuracy is',glass_acc_svc)\n",
    "\n",
    "#Calculate sihouette Score\n",
    "score = metrics.silhouette_score(X_test,y_pred)\n",
    "print(\"Silhouette Score:\",score)\n"
   ]
  },
  {
   "cell_type": "code",
   "execution_count": null,
   "id": "9e2f626c",
   "metadata": {},
   "outputs": [],
   "source": []
  }
 ],
 "metadata": {
  "kernelspec": {
   "display_name": "Python 3 (ipykernel)",
   "language": "python",
   "name": "python3"
  },
  "language_info": {
   "codemirror_mode": {
    "name": "ipython",
    "version": 3
   },
   "file_extension": ".py",
   "mimetype": "text/x-python",
   "name": "python",
   "nbconvert_exporter": "python",
   "pygments_lexer": "ipython3",
   "version": "3.9.4"
  }
 },
 "nbformat": 4,
 "nbformat_minor": 5
}
