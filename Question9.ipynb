{
 "cells": [
  {
   "cell_type": "code",
   "execution_count": 6,
   "id": "9a5b6f68",
   "metadata": {},
   "outputs": [
    {
     "name": "stdout",
     "output_type": "stream",
     "text": [
      "Enter no of students : 4\n",
      "enter the weight in lb :150\n",
      "enter the weight in lb :155\n",
      "enter the weight in lb :145\n",
      "enter the weight in lb :148\n",
      "\n",
      "The weights in Lb [150.0, 155.0, 145.0, 148.0]\n",
      "\n",
      "The weights in Kg [68.0388, 70.30676, 65.77083999999999, 67.131616]\n"
     ]
    }
   ],
   "source": [
    "# Conversion of weights from lbs to Kgs\n",
    "\n",
    "noOfStudents=int(input(\"Enter no of students : \"))  #Collect user input for no of students\n",
    "weightsInLb=[] #lbWeights List declaration          #Declare empty list for weights in lb\n",
    "weightsInKg=[] #KgWeights List declaration          #Declare empty list for weights in kg\n",
    "\n",
    "for k in range(noOfStudents):                       #Loop no of students \n",
    "    lb = float(input(\"enter the weight in lb :\"))   #Collect weights of each student from user\n",
    "    weightsInLb.append(lb)\n",
    "    kg=lb*0.453592                                  #convert weight from lb to kg\n",
    "    weightsInKg.append(kg)                          #push converted weight into weightsInKg list\n",
    "\n",
    "print('\\nThe weights in Lb',weightsInLb)           #print weights collected in lbs\n",
    "print('\\nThe weights in Kg',weightsInKg)           #print weights converted in kgs\n",
    "    \n",
    "\n",
    "\n"
   ]
  },
  {
   "cell_type": "code",
   "execution_count": null,
   "id": "4c65f653",
   "metadata": {},
   "outputs": [],
   "source": []
  }
 ],
 "metadata": {
  "kernelspec": {
   "display_name": "Python 3 (ipykernel)",
   "language": "python",
   "name": "python3"
  },
  "language_info": {
   "codemirror_mode": {
    "name": "ipython",
    "version": 3
   },
   "file_extension": ".py",
   "mimetype": "text/x-python",
   "name": "python",
   "nbconvert_exporter": "python",
   "pygments_lexer": "ipython3",
   "version": "3.9.4"
  }
 },
 "nbformat": 4,
 "nbformat_minor": 5
}
