{
 "cells": [
  {
   "cell_type": "code",
   "execution_count": 34,
   "id": "093b29e5",
   "metadata": {},
   "outputs": [
    {
     "name": "stdout",
     "output_type": "stream",
     "text": [
      "Unordered ages:  [19, 22, 19, 24, 20, 25, 26, 24, 25, 24]\n",
      "Ascending Ordered ages:  [19, 19, 20, 22, 24, 24, 24, 25, 25, 26]\n",
      "Descending Ordered ages:  [26, 25, 25, 24, 24, 24, 22, 20, 19, 19]\n",
      "Approach#1............\n",
      "Max age 26\n",
      "Min age 19\n",
      "Approach#2............\n",
      "Max age 26\n",
      "Min age 19\n",
      "[26, 25, 25, 24, 24, 24, 22, 20, 19, 19, 19, 26]\n",
      "[19, 19, 19, 20, 22, 24, 24, 24, 25, 25, 26, 26]\n",
      "Approach#1.........Finding Median...\n",
      "Median Age is :: 24\n",
      "Approach#2.........Finding Median using statistics...\n",
      "Median Age is :: 24.0\n",
      "The average age is :: 22.75\n",
      "The range of the ages is :: 7\n"
     ]
    }
   ],
   "source": [
    "#Given list of 10 students ages = [19, 22, 19, 24, 20, 25, 26, 24, 25, 24]\n",
    "#1.Sort the list \n",
    "ages = [19, 22, 19, 24, 20, 25, 26, 24, 25, 24]\n",
    "print(\"Unordered ages: \", ages)                          # this prints the unordered list\n",
    "\n",
    "ages.sort()\n",
    "print(\"Ascending Ordered ages: \", ages)                  # this prints the ordered list in ascending order  \n",
    "\n",
    "ages.sort(reverse=True)\n",
    "print(\"Descending Ordered ages: \", ages)                 # this prints the ordered list in descending order\n",
    "\n",
    "# 2.Find min and max age \n",
    "print(\"Approach#1............\")\n",
    "print(\"Max age\",max(ages))                               # finding min and max by using min() and max() built-in functions                                \n",
    "print(\"Min age\",min(ages))\n",
    "\n",
    "print(\"Approach#2............\")\n",
    "print(\"Max age\",ages[0])  #First element of list         \"\"\" finding min and max by fetching first and last elements in descending ordered list \"\"\"\n",
    "print(\"Min age\",ages[-1]) #Last element of list\n",
    "\n",
    "\n",
    "# 3.Add the min age and the max age again to the list\n",
    "ages.append(min(ages))\n",
    "ages.append(max(ages))\n",
    "print(ages)  \n",
    "ages.sort() \n",
    "print(ages)\n",
    "# 4.Find the median age (one middle item or two middle items divided by two)\n",
    "print(\"Approach#1.........Finding Median...\")\n",
    "lngth=len(ages)  #length of list\n",
    "medianAge =0    \n",
    "middle = (lngth - 1) // 2\n",
    "# If the dataset is even  \n",
    "if middle % 2:  \n",
    "    medianAge=  ages[middle]\n",
    "# If the dataset is odd      \n",
    "else:\n",
    "    medianAge= (ages[middle] + ages[middle + 1]) / 2.0\n",
    "\n",
    "print(\"Median Age is ::\",medianAge)\n",
    "\n",
    "print(\"Approach#2.........Finding Median using statistics...\")\n",
    "import statistics\n",
    "from statistics import median\n",
    "\n",
    "print(\"Median Age is ::\",median(ages))\n",
    "\n",
    "#Find the average age (sum of all items divided by their number)\n",
    "avg = sum(ages)/len(ages)\n",
    "print(\"The average age is ::\",avg)\n",
    "#Find the range of the ages (max minus min)\n",
    "range_age = max(ages)-min(ages)\n",
    "\n",
    "print(\"The range of the ages is ::\",range_age)\n",
    "\n"
   ]
  },
  {
   "cell_type": "code",
   "execution_count": null,
   "id": "fddadcb1",
   "metadata": {},
   "outputs": [],
   "source": []
  },
  {
   "cell_type": "code",
   "execution_count": null,
   "id": "b0cbbcde",
   "metadata": {},
   "outputs": [],
   "source": []
  }
 ],
 "metadata": {
  "kernelspec": {
   "display_name": "Python 3 (ipykernel)",
   "language": "python",
   "name": "python3"
  },
  "language_info": {
   "codemirror_mode": {
    "name": "ipython",
    "version": 3
   },
   "file_extension": ".py",
   "mimetype": "text/x-python",
   "name": "python",
   "nbconvert_exporter": "python",
   "pygments_lexer": "ipython3",
   "version": "3.9.4"
  }
 },
 "nbformat": 4,
 "nbformat_minor": 5
}
