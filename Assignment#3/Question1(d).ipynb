{
 "cells": [
  {
   "cell_type": "code",
   "execution_count": 15,
   "id": "3ce6b308",
   "metadata": {},
   "outputs": [
    {
     "name": "stdout",
     "output_type": "stream",
     "text": [
      "Original array [[1 2]\n",
      " [3 4]\n",
      " [5 6]]\n",
      "=================\n",
      "[[1 2 3]\n",
      " [4 5 6]]\n"
     ]
    }
   ],
   "source": [
    "#. Write a NumPy program to create a new shape to an array without changing its data.\n",
    "#Reshape 3x2: to Reshape 2x3:\n",
    "import numpy as np\n",
    "array = np.array([[1,2],\n",
    "[3,4],\n",
    "[5,6]])\n",
    "\n",
    "print(\"Original array\",array)\n",
    "print(\"=================\")\n",
    "new_array=array.reshape(2,3)\n",
    "print(new_array)\n"
   ]
  },
  {
   "cell_type": "code",
   "execution_count": null,
   "id": "668e1f14",
   "metadata": {},
   "outputs": [],
   "source": []
  }
 ],
 "metadata": {
  "kernelspec": {
   "display_name": "Python 3 (ipykernel)",
   "language": "python",
   "name": "python3"
  },
  "language_info": {
   "codemirror_mode": {
    "name": "ipython",
    "version": 3
   },
   "file_extension": ".py",
   "mimetype": "text/x-python",
   "name": "python",
   "nbconvert_exporter": "python",
   "pygments_lexer": "ipython3",
   "version": "3.9.4"
  }
 },
 "nbformat": 4,
 "nbformat_minor": 5
}
