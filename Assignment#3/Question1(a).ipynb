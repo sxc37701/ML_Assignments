{
 "cells": [
  {
   "cell_type": "code",
   "execution_count": 10,
   "id": "d90fe103",
   "metadata": {},
   "outputs": [
    {
     "name": "stdout",
     "output_type": "stream",
     "text": [
      "Original Numpy array:\n",
      "[[1 2 3]\n",
      " [2 1 2]\n",
      " [3 4 5]\n",
      " [5 6 7]]\n",
      "Type:  <class 'numpy.ndarray'>\n",
      "Type:  int32\n",
      "Random Vector of Size 15:\n",
      "[[ 3 16 14  7 10]\n",
      " [10  5 15  1  7]\n",
      " [18 11 19  6  3]]\n",
      "==================================\n",
      "[[ 3  0 14  7 10]\n",
      " [10  5  0  1  7]\n",
      " [18 11  0  6  3]]\n"
     ]
    }
   ],
   "source": [
    " #Using NumPy create random vector of size 15 having only Integers in the range 1-20.\n",
    "    \n",
    "import numpy as np\n",
    "#Create a 2-dimensional array of size 4 x 3 (composed of 4-byte integer elements), also print the shape, type and data type\n",
    "#of the array.\n",
    "\n",
    "np_array = np.array([[1, 2, 3], [2, 1, 2],[3,4,5],[5,6,7]], np.int32)\n",
    "print(\"Original Numpy array:\")\n",
    "print(np_array)\n",
    "print(\"Type: \",type(np_array))\n",
    "print(\"Type: \",np_array.dtype)\n",
    "#Reshape the array to 3 by 5   \n",
    "x = np.random.randint(1,[20],size=(3,5));\n",
    "    \n",
    "# Print array shape.    \n",
    "print(\"Random Vector of Size 15:\")\n",
    "print(x)\n",
    "\n",
    "print(\"==================================\")\n",
    "max_element = np.amax(x, axis=1)\n",
    "\n",
    "# this changes the shape of max_elements array so that it matches with input array(a)\n",
    "# this shape change is done so that we can compare directly\n",
    "max_element = max_element[:, None]\n",
    "new_arr = np.where(x == max_element, 0, x)\n",
    "\n",
    "print(new_arr)\n",
    "    "
   ]
  },
  {
   "cell_type": "code",
   "execution_count": null,
   "id": "46d9cf22",
   "metadata": {},
   "outputs": [],
   "source": []
  }
 ],
 "metadata": {
  "kernelspec": {
   "display_name": "Python 3 (ipykernel)",
   "language": "python",
   "name": "python3"
  },
  "language_info": {
   "codemirror_mode": {
    "name": "ipython",
    "version": 3
   },
   "file_extension": ".py",
   "mimetype": "text/x-python",
   "name": "python",
   "nbconvert_exporter": "python",
   "pygments_lexer": "ipython3",
   "version": "3.9.4"
  }
 },
 "nbformat": 4,
 "nbformat_minor": 5
}
