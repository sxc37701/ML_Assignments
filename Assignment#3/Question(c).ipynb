{
 "cells": [
  {
   "cell_type": "code",
   "execution_count": 2,
   "id": "e007352d",
   "metadata": {},
   "outputs": [
    {
     "name": "stdout",
     "output_type": "stream",
     "text": [
      "Sum of the diagonal element 4\n"
     ]
    }
   ],
   "source": [
    "# Compute the sum of the diagonal element of a given array.\n",
    "import numpy as np\n",
    "\n",
    "array =np.array([[0,1,2],\n",
    "[3,4,5]])\n",
    "\n",
    "diagonalelementSum =  np.trace(array)\n",
    "print(\"Sum of the diagonal element\",diagonalelementSum)\n",
    "\n",
    "\n"
   ]
  },
  {
   "cell_type": "code",
   "execution_count": null,
   "id": "7b4878c2",
   "metadata": {},
   "outputs": [],
   "source": []
  }
 ],
 "metadata": {
  "kernelspec": {
   "display_name": "Python 3 (ipykernel)",
   "language": "python",
   "name": "python3"
  },
  "language_info": {
   "codemirror_mode": {
    "name": "ipython",
    "version": 3
   },
   "file_extension": ".py",
   "mimetype": "text/x-python",
   "name": "python",
   "nbconvert_exporter": "python",
   "pygments_lexer": "ipython3",
   "version": "3.9.4"
  }
 },
 "nbformat": 4,
 "nbformat_minor": 5
}
