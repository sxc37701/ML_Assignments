{
 "cells": [
  {
   "cell_type": "code",
   "execution_count": 2,
   "id": "0d09f16b",
   "metadata": {},
   "outputs": [
    {
     "name": "stdout",
     "output_type": "stream",
     "text": [
      "Print originalarray:\n",
      " [[ 3 -2]\n",
      " [ 1  0]]\n",
      "Print Eigen values ofarray:\n",
      " [2. 1.]\n",
      "Print Eigen vectors of array\n",
      " [[0.89442719 0.70710678]\n",
      " [0.4472136  0.70710678]]\n"
     ]
    }
   ],
   "source": [
    "#Write a program to compute the eigenvalues and right eigenvectors of a given square array given below:\n",
    "import numpy as np\n",
    "original_array = np.array([[3, -2],\n",
    "              [1, 0]])\n",
    "print(\"Print originalarray:\\n\",original_array)\n",
    "  \n",
    "print(\"==================================\")\n",
    "# finding eigenvalues and eigenvectors\n",
    "w, v = np.l.eig(original_array)\n",
    "\n",
    "print(\"==================================\")\n",
    "# printing eigen values\n",
    "print(\"Print Eigen values ofarray:\\n\",w)\n",
    "print(\"==================================\")\n",
    "# printing eigen vectors\n",
    "print(\"Print Eigen vectors of array\\n\",v)\n"
   ]
  },
  {
   "cell_type": "code",
   "execution_count": null,
   "id": "9e68b449",
   "metadata": {},
   "outputs": [],
   "source": []
  }
 ],
 "metadata": {
  "kernelspec": {
   "display_name": "Python 3 (ipykernel)",
   "language": "python",
   "name": "python3"
  },
  "language_info": {
   "codemirror_mode": {
    "name": "ipython",
    "version": 3
   },
   "file_extension": ".py",
   "mimetype": "text/x-python",
   "name": "python",
   "nbconvert_exporter": "python",
   "pygments_lexer": "ipython3",
   "version": "3.9.4"
  }
 },
 "nbformat": 4,
 "nbformat_minor": 5
}
